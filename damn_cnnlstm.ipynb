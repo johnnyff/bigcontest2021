{
  "nbformat": 4,
  "nbformat_minor": 0,
  "metadata": {
    "colab": {
      "name": "damn_cnnlstm",
      "private_outputs": true,
      "provenance": [],
      "authorship_tag": "ABX9TyMAS9Aif0yWKee4vUPjkTn/",
      "include_colab_link": true
    },
    "kernelspec": {
      "name": "python3",
      "display_name": "Python 3"
    },
    "language_info": {
      "name": "python"
    }
  },
  "cells": [
    {
      "cell_type": "markdown",
      "metadata": {
        "id": "view-in-github",
        "colab_type": "text"
      },
      "source": [
        "<a href=\"https://colab.research.google.com/github/johnnyff/bigcontest2021/blob/main/damn_cnnlstm.ipynb\" target=\"_parent\"><img src=\"https://colab.research.google.com/assets/colab-badge.svg\" alt=\"Open In Colab\"/></a>"
      ]
    },
    {
      "cell_type": "code",
      "metadata": {
        "id": "gPfEKVVEwr8s"
      },
      "source": [
        "from google.colab import drive\n",
        "drive.mount('/content/drive')"
      ],
      "execution_count": null,
      "outputs": []
    },
    {
      "cell_type": "code",
      "metadata": {
        "id": "6Qi_kBw4wwd3"
      },
      "source": [
        ""
      ],
      "execution_count": null,
      "outputs": []
    },
    {
      "cell_type": "code",
      "metadata": {
        "id": "r5fG0rX9w6Pe"
      },
      "source": [
        ""
      ],
      "execution_count": null,
      "outputs": []
    },
    {
      "cell_type": "code",
      "metadata": {
        "id": "fGJVHNefw6SX"
      },
      "source": [
        ""
      ],
      "execution_count": null,
      "outputs": []
    },
    {
      "cell_type": "code",
      "metadata": {
        "id": "b4gDgLagw6XA"
      },
      "source": [
        ""
      ],
      "execution_count": null,
      "outputs": []
    },
    {
      "cell_type": "code",
      "metadata": {
        "id": "4wZOz_drw6a1"
      },
      "source": [
        "import pandas as pd\n",
        "import seaborn as sns\n",
        "import numpy as np\n",
        "import matplotlib.pyplot as plt\n",
        "import warnings\n",
        "from tqdm import tqdm\n",
        "\n",
        "import datetime as dt\n",
        "\n",
        "warnings.filterwarnings(action='ignore') "
      ],
      "execution_count": null,
      "outputs": []
    },
    {
      "cell_type": "code",
      "metadata": {
        "id": "k4F4N2gaw6gM"
      },
      "source": [
        "df = pd.read_excel('/content/drive/MyDrive/bigcontest/data/bigcontest_dataset.xlsx', header = 1)\n",
        "df"
      ],
      "execution_count": null,
      "outputs": []
    },
    {
      "cell_type": "code",
      "metadata": {
        "id": "qLWb5jEGw6kS"
      },
      "source": [
        "columns = ['num','year','month','day','hour','target',\n",
        "           'average_rain_1','a_rain_1','b_rain_1','c_rain_1','d_rain_1','e_level_1','d_level_1',\n",
        "           'average_rain_2','a_rain_2','b_rain_2','c_rain_2','d_rain_2','e_level_2','d_level_2',\n",
        "           'average_rain_3','a_rain_3','b_rain_3','c_rain_3','d_rain_3','e_level_3','d_level_3',\n",
        "           'average_rain_4','a_rain_4','b_rain_4','c_rain_4','d_rain_4','e_level_4','d_level_4',\n",
        "           'average_rain_5','a_rain_5','b_rain_5','c_rain_5','d_rain_5','e_level_5','d_level_5',\n",
        "           'average_rain_6','a_rain_6','b_rain_6','c_rain_6','d_rain_6','e_level_6','d_level_6'\n",
        "           ]"
      ],
      "execution_count": null,
      "outputs": []
    },
    {
      "cell_type": "code",
      "metadata": {
        "id": "vanVL_xAw6nN"
      },
      "source": [
        "df.columns =columns\n",
        "# df\n",
        "# for i in range(len(df)):\n",
        "#   year= df['year'][i]\n",
        "#   month= df['month'][i]\n",
        "#   day= df['day'][i]\n",
        "#   hour= df['hour'][i]\n",
        "#   if (hour == 24):\n",
        "#       day +=1\n",
        "#       hour = 0\n",
        "#   try:\n",
        "#     df['hour'][i] = dt.datetime(year, month, day, hour)\n",
        "#   except (ValueError):\n",
        "#     day = 1\n",
        "#     month += 1\n",
        "#     df['hour'][i] = dt.datetime(year, month, day, hour)\n",
        "\n",
        "# df\n",
        "\n",
        "\n",
        "  \n"
      ],
      "execution_count": null,
      "outputs": []
    },
    {
      "cell_type": "code",
      "metadata": {
        "id": "FmJznnd6w6qT"
      },
      "source": [
        "df.columns"
      ],
      "execution_count": null,
      "outputs": []
    },
    {
      "cell_type": "code",
      "metadata": {
        "id": "DZGXxpe6xdRX"
      },
      "source": [
        "df.drop(['num','year','month','day','hour'],axis =1 , inplace = True)\n",
        "df"
      ],
      "execution_count": null,
      "outputs": []
    },
    {
      "cell_type": "code",
      "metadata": {
        "id": "7WrJqc-TyFF2"
      },
      "source": [
        ""
      ],
      "execution_count": null,
      "outputs": []
    },
    {
      "cell_type": "code",
      "metadata": {
        "id": "3INWuf4zyFL5"
      },
      "source": [
        ""
      ],
      "execution_count": null,
      "outputs": []
    },
    {
      "cell_type": "code",
      "metadata": {
        "id": "PWlcUoCxyFO7"
      },
      "source": [
        ""
      ],
      "execution_count": null,
      "outputs": []
    },
    {
      "cell_type": "code",
      "metadata": {
        "id": "vtqHzXwmyFRd"
      },
      "source": [
        "from sklearn.preprocessing import MinMaxScaler\n",
        "from pandas.plotting import register_matplotlib_converters\n",
        "from torch import nn, optim\n",
        "import torch\n"
      ],
      "execution_count": null,
      "outputs": []
    },
    {
      "cell_type": "code",
      "metadata": {
        "id": "Q1r8EEZtyNe1"
      },
      "source": [
        "df_train = df[:-160]\n",
        "df_train.head()"
      ],
      "execution_count": null,
      "outputs": []
    },
    {
      "cell_type": "code",
      "metadata": {
        "id": "LgPO46ifyNhv"
      },
      "source": [
        "df_test = df[-160 : ]\n",
        "df_test.head()\n"
      ],
      "execution_count": null,
      "outputs": []
    },
    {
      "cell_type": "code",
      "metadata": {
        "id": "cs03vw6m5stw"
      },
      "source": [
        ""
      ],
      "execution_count": null,
      "outputs": []
    },
    {
      "cell_type": "code",
      "metadata": {
        "id": "6q6fpeRm5swY"
      },
      "source": [
        ""
      ],
      "execution_count": null,
      "outputs": []
    },
    {
      "cell_type": "code",
      "metadata": {
        "id": "OO-185-x5s0A"
      },
      "source": [
        ""
      ],
      "execution_count": null,
      "outputs": []
    },
    {
      "cell_type": "code",
      "metadata": {
        "id": "ua13ud6k5s3F"
      },
      "source": [
        "def create_sequences(data, seq_length):\n",
        "    xs = []\n",
        "    ys = []\n",
        "    for i in range(len(data)-seq_length):\n",
        "        x = data.iloc[i:(i+seq_length)]\n",
        "        y = data.iloc[i+seq_length]\n",
        "        xs.append(x)\n",
        "        ys.append(y)\n",
        "    return np.array(xs), np.array(ys)\n"
      ],
      "execution_count": null,
      "outputs": []
    },
    {
      "cell_type": "code",
      "metadata": {
        "id": "m2CVtSWP5s6n"
      },
      "source": [
        ""
      ],
      "execution_count": null,
      "outputs": []
    },
    {
      "cell_type": "code",
      "metadata": {
        "id": "pL_V6rSu11TF"
      },
      "source": [
        "train_cnt = int(len(df_train)*0.8)\n",
        "df"
      ],
      "execution_count": null,
      "outputs": []
    },
    {
      "cell_type": "code",
      "metadata": {
        "id": "nLgoyq-z1uH3"
      },
      "source": [
        "y_train = df_train['target'][:train_cnt]\n",
        "y_val = df_train['target'][train_cnt:]\n",
        "X = df_train.drop(\"target\", axis =1)\n",
        "X_train = X[:train_cnt]\n",
        "X_val = X[train_cnt:]\n",
        "\n",
        "print(X_train.shape, y_train.shape)"
      ],
      "execution_count": null,
      "outputs": []
    },
    {
      "cell_type": "code",
      "metadata": {
        "id": "obwNUWC5yNtF"
      },
      "source": [
        "def make_Tensor(array):\n",
        "    return torch.from_numpy(array).float()"
      ],
      "execution_count": null,
      "outputs": []
    },
    {
      "cell_type": "code",
      "metadata": {
        "id": "hFPUes0EyNwH"
      },
      "source": [
        "X_train = make_Tensor(X_train.values)\n",
        "X_val = make_Tensor(X_val.values)\n",
        "y_train = make_Tensor(y_train.values)\n",
        "y_val = make_Tensor(y_val.values)\n"
      ],
      "execution_count": null,
      "outputs": []
    },
    {
      "cell_type": "code",
      "metadata": {
        "id": "3UhKGBN7xwEo"
      },
      "source": [
        "class CovidPredictor(nn.Module):\n",
        "    def __init__(self, n_features, n_hidden, n_layers):\n",
        "        super(CovidPredictor, self).__init__()\n",
        "        self.n_hidden = n_hidden\n",
        "        self.n_layers = n_layers\n",
        "        self.c1 = nn.Conv1d(in_channels=1, out_channels=1, kernel_size = 2, stride = 1) # 1D CNN 레이어 추가\n",
        "        self.lstm = nn.LSTM(\n",
        "            input_size=n_features,\n",
        "            hidden_size=n_hidden,\n",
        "            num_layers=n_layers\n",
        "        )\n",
        "        self.linear = nn.Linear(in_features=n_hidden, out_features=1)\n",
        "    def reset_hidden_state(self):\n",
        "        self.hidden = (\n",
        "            torch.zeros(self.n_layers, self.seq_len-1, self.n_hidden),\n",
        "            torch.zeros(self.n_layers, self.seq_len-1, self.n_hidden)\n",
        "        )\n",
        "    def forward(self, sequences):\n",
        "        sequences = self.c1(sequences.view(1, 1, -1))\n",
        "        lstm_out, self.hidden = self.lstm(\n",
        "            sequences.view(len(sequences), 1, -1),\n",
        "            self.hidden\n",
        "        )\n",
        "        last_time_step = lstm_out.view(1, len(sequences), self.n_hidden)[-1]\n",
        "        y_pred = self.linear(last_time_step)\n",
        "        return y_pred"
      ],
      "execution_count": null,
      "outputs": []
    },
    {
      "cell_type": "code",
      "metadata": {
        "id": "kzjrDlEi37aP"
      },
      "source": [
        "def train_model(model, train_data, train_labels, val_data=None, val_labels=None, num_epochs=100, verbose = 10, patience = 10):\n",
        "    loss_fn = torch.nn.L1Loss() #\n",
        "    optimiser = torch.optim.Adam(model.parameters(), lr=0.001)\n",
        "    train_hist = []\n",
        "    val_hist = []\n",
        "    for t in range(num_epochs):\n",
        "\n",
        "        epoch_loss = 0\n",
        "\n",
        "        for idx, seq in enumerate(train_data): # sample 별 hidden state reset을 해줘야 함 \n",
        "\n",
        "            model.reset_hidden_state()\n",
        "\n",
        "            # train loss\n",
        "            seq = torch.unsqueeze(seq, 0)\n",
        "            y_pred = model(seq)\n",
        "            loss = loss_fn(y_pred[0].float(), train_labels[idx]) # 1개의 step에 대한 loss\n",
        "\n",
        "            # update weights\n",
        "            optimiser.zero_grad()\n",
        "            loss.backward()\n",
        "            optimiser.step()\n",
        "\n",
        "            epoch_loss += loss.item()\n",
        "\n",
        "        train_hist.append(epoch_loss / len(train_data))\n",
        "\n",
        "        if val_data is not None:\n",
        "\n",
        "            with torch.no_grad():\n",
        "\n",
        "                val_loss = 0\n",
        "\n",
        "                for val_idx, val_seq in enumerate(val_data):\n",
        "\n",
        "                    model.reset_hidden_state() #seq 별로 hidden state 초기화 \n",
        "\n",
        "                    val_seq = torch.unsqueeze(val_seq, 0)\n",
        "                    y_val_pred = model(val_seq)\n",
        "                    val_step_loss = loss_fn(y_val_pred[0].float(), val_labels[val_idx])\n",
        "\n",
        "                    val_loss += val_step_loss\n",
        "                \n",
        "            val_hist.append(val_loss / len(val_data)) # val hist에 추가\n",
        "\n",
        "            ## verbose 번째 마다 loss 출력 \n",
        "            if t % verbose == 0:\n",
        "                print(f'Epoch {t} train loss: {epoch_loss / len(train_data)} val loss: {val_loss / len(val_data)}')\n",
        "\n",
        "            ## patience 번째 마다 early stopping 여부 확인\n",
        "            if (t % patience == 0) & (t != 0):\n",
        "                \n",
        "                ## loss가 커졌다면 early stop\n",
        "                if val_hist[t - patience] < val_hist[t] :\n",
        "\n",
        "                    print('\\n Early Stopping')\n",
        "\n",
        "                    break\n",
        "\n",
        "        elif t % verbose == 0:\n",
        "            print(f'Epoch {t} train loss: {epoch_loss / len(train_data)}')\n",
        "\n",
        "            \n",
        "    return model, train_hist, val_hist"
      ],
      "execution_count": null,
      "outputs": []
    },
    {
      "cell_type": "code",
      "metadata": {
        "id": "r3p9UK9h5O3M"
      },
      "source": [
        "model = CovidPredictor(\n",
        "    n_features=1,\n",
        "    n_hidden=4,\n",
        "    n_layers=1\n",
        ")"
      ],
      "execution_count": null,
      "outputs": []
    },
    {
      "cell_type": "code",
      "metadata": {
        "id": "HSEfqB8C8a40"
      },
      "source": [
        "model, train_hist, val_hist = train_model(\n",
        "    model,\n",
        "    X_train,\n",
        "    y_train,\n",
        "    X_val,\n",
        "    y_val,\n",
        "    num_epochs=100,\n",
        "    verbose=10,\n",
        "    patience=50\n",
        ")"
      ],
      "execution_count": null,
      "outputs": []
    },
    {
      "cell_type": "code",
      "metadata": {
        "id": "a2CCEbh38vjX"
      },
      "source": [
        ""
      ],
      "execution_count": null,
      "outputs": []
    }
  ]
}
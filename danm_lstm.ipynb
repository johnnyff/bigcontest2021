{
  "nbformat": 4,
  "nbformat_minor": 0,
  "metadata": {
    "colab": {
      "name": "danm_lstm",
      "private_outputs": true,
      "provenance": [],
      "collapsed_sections": [],
      "machine_shape": "hm",
      "authorship_tag": "ABX9TyNKWWcByD3hjw1v69qpeIA/",
      "include_colab_link": true
    },
    "kernelspec": {
      "name": "python3",
      "display_name": "Python 3"
    },
    "language_info": {
      "name": "python"
    },
    "accelerator": "GPU"
  },
  "cells": [
    {
      "cell_type": "markdown",
      "metadata": {
        "id": "view-in-github",
        "colab_type": "text"
      },
      "source": [
        "<a href=\"https://colab.research.google.com/github/johnnyff/bigcontest2021/blob/main/danm_lstm.ipynb\" target=\"_parent\"><img src=\"https://colab.research.google.com/assets/colab-badge.svg\" alt=\"Open In Colab\"/></a>"
      ]
    },
    {
      "cell_type": "code",
      "metadata": {
        "id": "6DtryaZPBotN"
      },
      "source": [
        "from google.colab import drive\n",
        "drive.mount('/content/drive')"
      ],
      "execution_count": null,
      "outputs": []
    },
    {
      "cell_type": "code",
      "metadata": {
        "id": "5SC3bOJwCDts"
      },
      "source": [
        "import pandas as pd\n",
        "import seaborn as sns\n",
        "import numpy as np\n",
        "import matplotlib.pyplot as plt\n",
        "import warnings\n",
        "from tqdm import tqdm\n",
        "import torch\n",
        "import datetime as dt\n",
        "import torch.nn as nn\n",
        "\n",
        "warnings.filterwarnings(action='ignore') "
      ],
      "execution_count": null,
      "outputs": []
    },
    {
      "cell_type": "code",
      "metadata": {
        "id": "CWyhHzedB7SA"
      },
      "source": [
        "df = pd.read_excel('/content/drive/MyDrive/bigcontest/data/bigcontest_dataset.xlsx', header = 1)\n",
        "df"
      ],
      "execution_count": null,
      "outputs": []
    },
    {
      "cell_type": "code",
      "metadata": {
        "id": "yMepL6_4CBtH"
      },
      "source": [
        "columns = ['num','year','month','day','hour','target',\n",
        "           'average_rain_1','a_rain_1','b_rain_1','c_rain_1','d_rain_1','e_level_1','d_level_1',\n",
        "           'average_rain_2','a_rain_2','b_rain_2','c_rain_2','d_rain_2','e_level_2','d_level_2',\n",
        "           'average_rain_3','a_rain_3','b_rain_3','c_rain_3','d_rain_3','e_level_3','d_level_3',\n",
        "           'average_rain_4','a_rain_4','b_rain_4','c_rain_4','d_rain_4','e_level_4','d_level_4',\n",
        "           'average_rain_5','a_rain_5','b_rain_5','c_rain_5','d_rain_5','e_level_5','d_level_5',\n",
        "           'average_rain_6','a_rain_6','b_rain_6','c_rain_6','d_rain_6','e_level_6','d_level_6'\n",
        "           ]"
      ],
      "execution_count": null,
      "outputs": []
    },
    {
      "cell_type": "code",
      "metadata": {
        "id": "SZ-KnEV-CFm-"
      },
      "source": [
        "df.columns =columns\n"
      ],
      "execution_count": null,
      "outputs": []
    },
    {
      "cell_type": "code",
      "metadata": {
        "id": "dJZCLIWhCHHP"
      },
      "source": [
        "df.drop(['year','month','day','hour'],axis =1 , inplace = True)\n",
        "df"
      ],
      "execution_count": null,
      "outputs": []
    },
    {
      "cell_type": "code",
      "metadata": {
        "id": "-hftV2ViCNuh"
      },
      "source": [
        "device = 'cuda' if torch.cuda.is_available() else 'cpu'\n",
        "\n",
        "torch.manual_seed(777)\n",
        "if device =='cuda':\n",
        "    torch.cuda.manual_seed_all(777)\n",
        "    print(torch.cuda.get_device_name(0))"
      ],
      "execution_count": null,
      "outputs": []
    },
    {
      "cell_type": "code",
      "metadata": {
        "id": "Qe4EFWgOCNxs"
      },
      "source": [
        "import torch\n",
        "from torch.nn import Module, LSTM, Linear\n",
        "from torch.utils.data import DataLoader, TensorDataset\n",
        "import numpy as np\n",
        "from sklearn.preprocessing import MinMaxScaler\n",
        "from torch.autograd import Variable"
      ],
      "execution_count": null,
      "outputs": []
    },
    {
      "cell_type": "code",
      "metadata": {
        "id": "PSQZTfMgCI0R"
      },
      "source": [
        "train_data = df[:-160]\n",
        "train_data[train_data['num']==1]"
      ],
      "execution_count": null,
      "outputs": []
    },
    {
      "cell_type": "markdown",
      "metadata": {
        "id": "BfYiuF2mDrG2"
      },
      "source": [
        "### Kalman filter"
      ]
    },
    {
      "cell_type": "code",
      "metadata": {
        "id": "sMFQxDYPEeKZ"
      },
      "source": [
        "!pip install filterpy"
      ],
      "execution_count": null,
      "outputs": []
    },
    {
      "cell_type": "code",
      "metadata": {
        "id": "wwbyQ0vyDqxp"
      },
      "source": [
        "import numpy as np\n",
        "from filterpy.kalman import KalmanFilter\n",
        "from filterpy.common import Q_discrete_white_noise\n",
        "\n",
        "my_filter = KalmanFilter(dim_x=2,dim_z=1) #create kalman filter\n",
        "\n",
        "my_filter.x = np.array([[2.],\n",
        "                [0.]])       # initial state (location and velocity)\n",
        "\n",
        "my_filter.F = np.array([[1.,1.],\n",
        "                [0.,1.]])    # state transition matrix\n",
        "\n",
        "my_filter.H = np.array([[1.,0.]])    # Measurement function\n",
        "my_filter.P *= 1000.                 # covariance matrix\n",
        "my_filter.R = 5                      # state uncertainty\n",
        "my_filter.Q = Q_discrete_white_noise(dim = 2,dt=.1,var=.1) # process uncertainty"
      ],
      "execution_count": null,
      "outputs": []
    },
    {
      "cell_type": "code",
      "metadata": {
        "id": "-TDynsGZEaaK"
      },
      "source": [
        "for i in range(2,44):\n",
        "  z = train_data.iloc[:,i] #필터링 할 피쳐   \n",
        "  a = []           #필터링 된 피쳐(after)\n",
        "  b = []           #필터링 전 피쳐(before)\n",
        "  my_filter = KalmanFilter(dim_x=2,dim_z=1) #create kalman filter\n",
        "  my_filter.x = np.array([[2.],[0.]])       # initial state (location and velocity)\n",
        "  my_filter.F = np.array([[1.,1.], [0.,1.]])    # state transition matrix\n",
        "  my_filter.H = np.array([[1.,0.]])    # Measurement function\n",
        "  my_filter.P *= 1000.                 # covariance matrix\n",
        "  my_filter.R = 5                      # state uncertainty\n",
        "  my_filter.Q = Q_discrete_white_noise(dim = 2,dt=.1,var=.1) # process uncertainty   \n",
        "  for z in z:\n",
        "      my_filter.predict()\n",
        "      my_filter.update(z)\n",
        "      # do something with the output\n",
        "      x = my_filter.x\n",
        "      a.extend(x[0])\n",
        "      b.append(z)\n",
        "  train_data.iloc[:,i]=a\n",
        "train_data"
      ],
      "execution_count": null,
      "outputs": []
    },
    {
      "cell_type": "code",
      "metadata": {
        "id": "jBwNsLZbqXgd"
      },
      "source": [
        "scaler = MinMaxScaler()\n",
        "scaler.fit(train_data.iloc[:,1:])\n",
        "scaler"
      ],
      "execution_count": null,
      "outputs": []
    },
    {
      "cell_type": "code",
      "metadata": {
        "id": "cAX7ALaGZi4N"
      },
      "source": [
        "def sliding_windows(data, seq_length):\n",
        "    x = []\n",
        "    y = []\n",
        "    for j in range(1,26):\n",
        "      part = data[data['num']==j]\n",
        "      part.drop(['num'], axis =1 , inplace =True)\n",
        "      part = scaler.transform(part)\n",
        "      temp =[]\n",
        "      for i in range(seq_length):\n",
        "        temp.append(part[0,1:])\n",
        "\n",
        "      for i in range(seq_length -1):\n",
        "        x.append(temp)\n",
        "        y.append(part[0,0])\n",
        "\n",
        "      for i in range(len(part)-seq_length):\n",
        "      \n",
        "        _x = part[i:(i+seq_length),1:]\n",
        "        _y = part[i+seq_length-1,0]\n",
        "        x.append(_x)\n",
        "        y.append(_y)\n",
        "    return np.array(x),np.array(y)"
      ],
      "execution_count": null,
      "outputs": []
    },
    {
      "cell_type": "code",
      "metadata": {
        "id": "i6YNhY2zoqj2"
      },
      "source": [
        "seq_length = 3\n",
        "x, y = sliding_windows(train_data, seq_length)\n",
        "\n",
        "\n"
      ],
      "execution_count": null,
      "outputs": []
    },
    {
      "cell_type": "code",
      "metadata": {
        "id": "VOrEJ_fboq38"
      },
      "source": [
        "x.shape"
      ],
      "execution_count": null,
      "outputs": []
    },
    {
      "cell_type": "code",
      "metadata": {
        "id": "ctClmFrnoq68"
      },
      "source": [
        "y.shape"
      ],
      "execution_count": null,
      "outputs": []
    },
    {
      "cell_type": "code",
      "metadata": {
        "id": "Sf2YoJ01oq9q"
      },
      "source": [
        "from sklearn.model_selection import train_test_split\n",
        "\n",
        "X_train, X_test, y_train, y_test = train_test_split(x, y, test_size=0.2, random_state=1422)\n",
        "print(X_train.shape, X_test.shape)"
      ],
      "execution_count": null,
      "outputs": []
    },
    {
      "cell_type": "code",
      "metadata": {
        "id": "QllMn4O1orAx"
      },
      "source": [
        "from torch.utils.data import TensorDataset, DataLoader\n",
        "X_train_t = torch.Tensor(X_train)\n",
        "X_test_t = torch.Tensor(X_test)\n",
        "y_train_t = torch.Tensor(y_train)\n",
        "y_test_t = torch.Tensor(y_test)"
      ],
      "execution_count": null,
      "outputs": []
    },
    {
      "cell_type": "code",
      "metadata": {
        "id": "lGT5bMeXorDT"
      },
      "source": [
        "train_batch_size = 5\n",
        "test_batch_size =1 \n",
        "train_loader = DataLoader(TensorDataset(X_train_t, y_train_t), shuffle=True, batch_size=train_batch_size, num_workers = 3)\n",
        "test_loader = DataLoader(TensorDataset(X_test_t, y_test_t), shuffle=False, batch_size=test_batch_size,num_workers = 3)"
      ],
      "execution_count": null,
      "outputs": []
    },
    {
      "cell_type": "markdown",
      "metadata": {
        "id": "c-qzpXPxM6zj"
      },
      "source": [
        "Modeling"
      ]
    },
    {
      "cell_type": "code",
      "metadata": {
        "id": "pAF4yQn_orJj"
      },
      "source": [
        "\n",
        "class LSTM(nn.Module):\n",
        "    def __init__(self, input_size=42, hidden_layer_size=120, layer_dim =1, output_size=1,dropout=0.25):\n",
        "        super().__init__()\n",
        "        self.hidden_layer_size = hidden_layer_size\n",
        "        self.layer_dim = layer_dim\n",
        "\n",
        "        self.lstm = nn.LSTM(input_size, hidden_layer_size, layer_dim, batch_first = True,bidirectional = True)\n",
        "\n",
        "        self.fc1 = nn.Linear(2*hidden_layer_size, hidden_layer_size)\n",
        "        # self.batch1 = nn.BatchNorm1d(hidden_layer_size)\n",
        "        self.relu = nn.ReLU()\n",
        "        \n",
        "        self.fc2 = nn.Linear(hidden_layer_size,1)\n",
        "    \n",
        "        self.dropout = nn.Dropout(dropout)\n",
        "        # self.hidden_cell = (torch.zeros(2*1,5,self.hidden_layer_size),\n",
        "        #                     torch.zeros(2*1,5,self.hidden_layer_size))\n",
        "        \n",
        "        torch.nn.init.xavier_uniform_(self.fc1.weight)\n",
        "        torch.nn.init.xavier_uniform_(self.fc2.weight)\n",
        "\n",
        "\n",
        "    def forward(self, input_seq):\n",
        "\n",
        "        h0 = torch.zeros(self.layer_dim, input_seq.size(0), self.hidden_layer_size).to(device)\n",
        "        # Initialize cell state\n",
        "        c0 = torch.zeros(self.layer_dim, input_seq.size(0), self.hidden_layer_size).to(device)\n",
        "\n",
        "        batch_size = input_seq.size(0)\n",
        "   \n",
        "        lstm_out, self.hidden_cell = self.lstm(input_seq)\n",
        "        # print(lstm_out.shape)\n",
        "        out = self.fc1(lstm_out)\n",
        "        # print(out.shape)\n",
        "        # out = out.permute(0, 2, 1)\n",
        "        # out = self.batch1(out)\n",
        "        # print(out.shape)\n",
        "        # out = out.permute(0,2,1)\n",
        "        out = self.relu(out)\n",
        "        # print(out.shape)\n",
        "        out = self.fc2(out)\n",
        "        # print(out.shape)\n",
        "        out = out.view(batch_size,-1)\n",
        "        # print(out.shape)\n",
        "        out = out[:,-1]\n",
        "        # print(out.shape)\n",
        "\n",
        "        return out\n"
      ],
      "execution_count": null,
      "outputs": []
    },
    {
      "cell_type": "code",
      "metadata": {
        "id": "fOyQWOOCHeZg"
      },
      "source": [
        "class LSTM(nn.Module):\n",
        "    def __init__(self, input_size=42, hidden_layer_size=120, layer_dim =1, output_size=1,dropout=0.25):\n",
        "        super().__init__()\n",
        "        self.hidden_layer_size = hidden_layer_size\n",
        "        self.layer_dim = layer_dim\n",
        "\n",
        "        self.lstm = nn.LSTM(input_size, hidden_layer_size, layer_dim, batch_first = True,bidirectional = True)\n",
        "\n",
        "        self.fc1 = nn.Linear(2*hidden_layer_size, hidden_layer_size)\n",
        "        self.fc2 = nn.Linear(hidden_layer_size,1)\n",
        "        self.dropout = nn.Dropout(dropout)\n",
        "        # self.hidden_cell = (torch.zeros(2*1,5,self.hidden_layer_size),\n",
        "        #                     torch.zeros(2*1,5,self.hidden_layer_size))\n",
        "        \n",
        "        torch.nn.init.xavier_uniform_(self.fc1.weight)\n",
        "        torch.nn.init.xavier_uniform_(self.fc2.weight)\n",
        "\n",
        "\n",
        "    def forward(self, input_seq):\n",
        "\n",
        "        # h0 = torch.zeros(self.layer_dim, input_seq.size(0), self.hidden_layer_size).requires_grad_().to(device)\n",
        "        # # Initialize cell state\n",
        "        # c0 = torch.zeros(self.layer_dim, input_seq.size(0), self.hidden_layer_size).requires_grad_().to(device)\n",
        "\n",
        "        batch_size = input_seq.size(0)\n",
        "   \n",
        "        lstm_out, self.hidden_cell = self.lstm(input_seq)\n",
        "        # print(lstm_out.view(len(input_seq),-1)[:,-1].shape)\n",
        "        # print(lstm_out.shape)\n",
        "        out = self.fc1(lstm_out)\n",
        "        out = self.fc2(out)\n",
        "        out = out.view(batch_size,-1)\n",
        "        # print(out.shape)\n",
        "        out = out[:,-1]\n",
        "        # print(out.shape)\n",
        "\n",
        "        return out"
      ],
      "execution_count": null,
      "outputs": []
    },
    {
      "cell_type": "code",
      "metadata": {
        "id": "ajevmQXUroGm"
      },
      "source": [
        "model = LSTM().to(device)\n",
        "loss_function = nn.MSELoss().to(device)\n",
        "optimizer = torch.optim.Adam(model.parameters(), lr=0.001)"
      ],
      "execution_count": null,
      "outputs": []
    },
    {
      "cell_type": "code",
      "metadata": {
        "id": "AeP5e-plFfqV"
      },
      "source": [
        "model"
      ],
      "execution_count": null,
      "outputs": []
    },
    {
      "cell_type": "code",
      "metadata": {
        "id": "L7lsOP8cp1wG"
      },
      "source": [
        "# test\n",
        "for seq, labels in train_loader:\n",
        "  seq = seq.to(device)\n",
        "  labels = labels.to(device)\n",
        "  res = model(seq)\n",
        "  print(res.shape)\n",
        "  break\n"
      ],
      "execution_count": null,
      "outputs": []
    },
    {
      "cell_type": "code",
      "metadata": {
        "id": "fPK-jtf4Em29"
      },
      "source": [
        "epoch_scheduler = torch.optim.lr_scheduler.StepLR(optimizer, step_size = 250, gamma=0.8, verbose = True)\n"
      ],
      "execution_count": null,
      "outputs": []
    },
    {
      "cell_type": "markdown",
      "metadata": {
        "id": "gEJzO7p5M2hz"
      },
      "source": [
        "### Train"
      ]
    },
    {
      "cell_type": "code",
      "metadata": {
        "id": "kJG-YLRqFfw4"
      },
      "source": [
        "epochs = 2000\n",
        "patience = 100\n",
        "min_val_loss = 9999\n",
        "counter = 0\n",
        "batch_loss = []\n",
        "val_loss = []\n",
        "preds =[]\n",
        "gts = []\n",
        "for i in range(epochs):\n",
        "    mse_train =0 \n",
        "    for seq, labels in train_loader:\n",
        "        seq = seq.to(device)\n",
        "        labels = labels.to(device)\n",
        "        optimizer.zero_grad()\n",
        "        model.hidden_cell = (torch.zeros(2, seq.size(0), model.hidden_layer_size),\n",
        "                        torch.zeros(2, seq.size(0), model.hidden_layer_size))\n",
        "\n",
        "        y_pred = model(seq)\n",
        "        loss = loss_function(y_pred, labels)\n",
        "        loss.backward()\n",
        "        mse_train+= loss.item()\n",
        "        optimizer.step()\n",
        "    batch_loss.append(mse_train)\n",
        "    epoch_scheduler.step()\n",
        "\n",
        "   \n",
        "    if (i%5==0):\n",
        "      with torch.no_grad():\n",
        "          mse_val = 0\n",
        "          total = 1\n",
        "          for seq, labels in test_loader:\n",
        "              total = len(test_loader)\n",
        "              seq = seq.to(device)\n",
        "              labels = labels.to(device).view([-1,seq.size(0)])\n",
        "              y_pred = model(seq).view([-1,seq.size(0)])\n",
        "\n",
        "              labels = torch.tensor(labels)\n",
        "              y_pred = torch.tensor(y_pred)\n",
        "              \n",
        "              temp = (seq[:,len(seq)-1,:])\n",
        "              gt = scaler.inverse_transform(torch.cat([labels,temp], dim =1).detach().cpu().clone().numpy())[0][0]\n",
        "              pred = scaler.inverse_transform(torch.cat([y_pred,temp], dim =1).detach().cpu().clone().numpy())[0][0]\n",
        "              loss = loss_function(torch.tensor(pred), torch.tensor(gt)).item()\n",
        "              gts.append(gt)\n",
        "              preds.append(pred)              \n",
        "              mse_val += loss\n",
        "\n",
        "          val_loss.append((mse_val/total)**0.5)\n",
        "\n",
        "      print(\"iteration : {} , rsme : {}\".format(i, (mse_val/total)**0.5))\n",
        "      if min_val_loss > mse_val**0.5:\n",
        "          min_val_loss = mse_val**0.5\n",
        "          print(\"Saving...\")\n",
        "          torch.save(model.state_dict(), \"/content/drive/MyDrive/bigcontest/danm_lstm_model_kalma.pt\")\n",
        "          counter = 0\n",
        "      else: \n",
        "          counter += 1\n",
        "      \n",
        "      if counter == patience:\n",
        "          break\n",
        "    \n",
        "    "
      ],
      "execution_count": null,
      "outputs": []
    },
    {
      "cell_type": "code",
      "metadata": {
        "id": "X5-mB3oyA5As"
      },
      "source": [
        "print(min(val_loss))\n",
        "plt.plot(val_loss)"
      ],
      "execution_count": null,
      "outputs": []
    },
    {
      "cell_type": "code",
      "metadata": {
        "id": "ohmVkfbdXdZR"
      },
      "source": [
        "model.load_state_dict(torch.load('/content/drive/MyDrive/bigcontest/danm_lstm_model_kalma.pt'))\n",
        "model\n"
      ],
      "execution_count": null,
      "outputs": []
    },
    {
      "cell_type": "code",
      "metadata": {
        "id": "DZMK2azVEWnU"
      },
      "source": [
        "model.eval()\n",
        "with torch.no_grad():\n",
        "    gts = []\n",
        "    preds = []\n",
        "    mse_val = 0\n",
        "    total = 0\n",
        "    for seq, labels in test_loader:\n",
        "        total = len(test_loader)\n",
        "        seq = seq.to(device)\n",
        "        labels = labels.to(device).view([-1,seq.size(0)])\n",
        "        y_pred = model(seq).view([-1,seq.size(0)])\n",
        "\n",
        "        labels = torch.tensor(labels)\n",
        "        y_pred = torch.tensor(y_pred)\n",
        "\n",
        "        temp = (seq[:,len(seq)-1,:])\n",
        "        gt = scaler.inverse_transform(torch.cat([labels,temp], dim =1).detach().cpu().clone().numpy())[0][0]\n",
        "        pred = scaler.inverse_transform(torch.cat([y_pred,temp], dim =1).detach().cpu().clone().numpy())[0][0]\n",
        "        loss = loss_function(torch.tensor(pred), torch.tensor(gt)).item()\n",
        "        gts.append(gt)\n",
        "        preds.append(pred)              \n",
        "        mse_val += loss\n",
        "    "
      ],
      "execution_count": null,
      "outputs": []
    },
    {
      "cell_type": "code",
      "metadata": {
        "id": "bae_35tDMQBg"
      },
      "source": [
        "feed = pd.DataFrame({'predict': preds, 'GT ' : gts})\n",
        "feed"
      ],
      "execution_count": null,
      "outputs": []
    },
    {
      "cell_type": "code",
      "metadata": {
        "id": "KP37FdjBMXB9"
      },
      "source": [
        "max(abs(feed['GT ']-feed['predict']))"
      ],
      "execution_count": null,
      "outputs": []
    },
    {
      "cell_type": "code",
      "metadata": {
        "id": "fUOaPZnUYzbE"
      },
      "source": [
        "(mse_val/574)**0.5"
      ],
      "execution_count": null,
      "outputs": []
    },
    {
      "cell_type": "code",
      "metadata": {
        "id": "qPofdAqPJm9_"
      },
      "source": [
        "plt.plot(gts, label ='gt')\n",
        "plt.plot(preds,label = 'pred')\n",
        "plt.legend()\n",
        "plt.show()"
      ],
      "execution_count": null,
      "outputs": []
    },
    {
      "cell_type": "code",
      "metadata": {
        "id": "q3vWw9P7BNVi"
      },
      "source": [
        "sns.scatterplot(preds, gts)"
      ],
      "execution_count": null,
      "outputs": []
    },
    {
      "cell_type": "code",
      "metadata": {
        "id": "tZrgctUFBYrD"
      },
      "source": [
        "feed[(abs(feed['GT ']-feed['predict']))>300]"
      ],
      "execution_count": null,
      "outputs": []
    },
    {
      "cell_type": "code",
      "metadata": {
        "id": "DRi9-qTqCbSf"
      },
      "source": [
        "train_data[(train_data['target']>200.34) & (train_data['target']<200.35)]"
      ],
      "execution_count": null,
      "outputs": []
    },
    {
      "cell_type": "code",
      "metadata": {
        "id": "tH8qHX1nBYvY"
      },
      "source": [
        "train_data[(train_data['target']>368) & (train_data['target']<369)]"
      ],
      "execution_count": null,
      "outputs": []
    },
    {
      "cell_type": "code",
      "metadata": {
        "id": "f-HQBV4GBYzS"
      },
      "source": [
        "train_data[train_data['num']==3]"
      ],
      "execution_count": null,
      "outputs": []
    },
    {
      "cell_type": "code",
      "metadata": {
        "id": "b4sosA_AEP9H"
      },
      "source": [
        "train_data[train_data['num']==25]"
      ],
      "execution_count": null,
      "outputs": []
    },
    {
      "cell_type": "code",
      "metadata": {
        "id": "BY6yrJjtBY3I"
      },
      "source": [
        ""
      ],
      "execution_count": null,
      "outputs": []
    },
    {
      "cell_type": "markdown",
      "metadata": {
        "id": "HsBoJdOzFUrx"
      },
      "source": [
        "### Check with each section"
      ]
    },
    {
      "cell_type": "code",
      "metadata": {
        "id": "uJEyBaYDJrCd"
      },
      "source": [
        "fig, ax = plt.subplots(5,5, figsize=(28,56))\n",
        "ax = ax.flatten()\n",
        "\n",
        "start_point = 0\n",
        "end_point = 0 \n",
        "for i in range(1,26):\n",
        "  length = len(train_data[train_data['num']==i])\n",
        "  end_point = start_point + length\n",
        "  x_test1 = torch.Tensor(x[start_point:end_point])\n",
        "  y_test1 = torch.Tensor(y[start_point:end_point])\n",
        "  start_point = end_point\n",
        "  test1_loader = DataLoader(TensorDataset(x_test1, y_test1), shuffle=False, batch_size=test_batch_size,num_workers = 3)\n",
        "\n",
        "  model.eval()\n",
        "  with torch.no_grad():\n",
        "      gts_c = []\n",
        "      preds_c = []\n",
        "      mse_val_c = 0\n",
        "      total = 0\n",
        "      for seq, labels in test1_loader:\n",
        "          total = len(test_loader)\n",
        "          seq = seq.to(device)\n",
        "          labels = labels.to(device).view([-1,seq.size(0)])\n",
        "          y_pred = model(seq).view([-1,seq.size(0)])\n",
        "\n",
        "          labels = torch.tensor(labels)\n",
        "          y_pred = torch.tensor(y_pred)\n",
        "\n",
        "          temp = (seq[:,len(seq)-1,:])\n",
        "          gt = scaler.inverse_transform(torch.cat([labels,temp], dim =1).detach().cpu().clone().numpy())[0][0]\n",
        "          pred = scaler.inverse_transform(torch.cat([y_pred,temp], dim =1).detach().cpu().clone().numpy())[0][0]\n",
        "          loss = loss_function(torch.tensor(pred), torch.tensor(gt)).item()\n",
        "\n",
        "          gts_c.append(gt)\n",
        "          preds_c.append(pred)              \n",
        "          mse_val_c += loss\n",
        "\n",
        "          ax[i-1].plot(gts_c, label ='gt')\n",
        "          ax[i-1].plot(preds_c,label = 'pred')\n",
        "          ax[i-1].set(title = \"{} sector\".format(i))\n",
        "plt.tight_layout()\n",
        "    "
      ],
      "execution_count": null,
      "outputs": []
    },
    {
      "cell_type": "code",
      "metadata": {
        "id": "NWM8XMBwM54U"
      },
      "source": [
        "feed_c= pd.DataFrame({'predict': preds_c, 'GT ' : gts_c})\n",
        "feed_c"
      ],
      "execution_count": null,
      "outputs": []
    },
    {
      "cell_type": "code",
      "metadata": {
        "id": "ZVxNIvelHzhy"
      },
      "source": [
        "plt.plot(gts_c, label ='gt')\n",
        "plt.plot(preds_c,label = 'pred')\n",
        "plt.legend()\n",
        "plt.show()"
      ],
      "execution_count": null,
      "outputs": []
    },
    {
      "cell_type": "code",
      "metadata": {
        "id": "_RFTBYK3M-yd"
      },
      "source": [
        ""
      ],
      "execution_count": null,
      "outputs": []
    }
  ]
}
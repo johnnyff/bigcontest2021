{
  "nbformat": 4,
  "nbformat_minor": 0,
  "metadata": {
    "colab": {
      "name": "danm_lstm",
      "private_outputs": true,
      "provenance": [],
      "collapsed_sections": [],
      "authorship_tag": "ABX9TyO2OeanVpzWDLly27nMJBmy",
      "include_colab_link": true
    },
    "kernelspec": {
      "name": "python3",
      "display_name": "Python 3"
    },
    "language_info": {
      "name": "python"
    }
  },
  "cells": [
    {
      "cell_type": "markdown",
      "metadata": {
        "id": "view-in-github",
        "colab_type": "text"
      },
      "source": [
        "<a href=\"https://colab.research.google.com/github/johnnyff/bigcontest2021/blob/main/danm_lstm.ipynb\" target=\"_parent\"><img src=\"https://colab.research.google.com/assets/colab-badge.svg\" alt=\"Open In Colab\"/></a>"
      ]
    },
    {
      "cell_type": "code",
      "metadata": {
        "id": "6DtryaZPBotN"
      },
      "source": [
        "from google.colab import drive\n",
        "drive.mount('/content/drive')"
      ],
      "execution_count": null,
      "outputs": []
    },
    {
      "cell_type": "code",
      "metadata": {
        "id": "5SC3bOJwCDts"
      },
      "source": [
        "import pandas as pd\n",
        "import seaborn as sns\n",
        "import numpy as np\n",
        "import matplotlib.pyplot as plt\n",
        "import warnings\n",
        "from tqdm import tqdm\n",
        "import torch\n",
        "import datetime as dt\n",
        "import torch.nn as nn\n",
        "\n",
        "warnings.filterwarnings(action='ignore') "
      ],
      "execution_count": null,
      "outputs": []
    },
    {
      "cell_type": "code",
      "metadata": {
        "id": "CWyhHzedB7SA"
      },
      "source": [
        "df = pd.read_excel('/content/drive/MyDrive/bigcontest/data/bigcontest_dataset.xlsx', header = 1)\n",
        "df"
      ],
      "execution_count": null,
      "outputs": []
    },
    {
      "cell_type": "code",
      "metadata": {
        "id": "yMepL6_4CBtH"
      },
      "source": [
        "columns = ['num','year','month','day','hour','target',\n",
        "           'average_rain_1','a_rain_1','b_rain_1','c_rain_1','d_rain_1','e_level_1','d_level_1',\n",
        "           'average_rain_2','a_rain_2','b_rain_2','c_rain_2','d_rain_2','e_level_2','d_level_2',\n",
        "           'average_rain_3','a_rain_3','b_rain_3','c_rain_3','d_rain_3','e_level_3','d_level_3',\n",
        "           'average_rain_4','a_rain_4','b_rain_4','c_rain_4','d_rain_4','e_level_4','d_level_4',\n",
        "           'average_rain_5','a_rain_5','b_rain_5','c_rain_5','d_rain_5','e_level_5','d_level_5',\n",
        "           'average_rain_6','a_rain_6','b_rain_6','c_rain_6','d_rain_6','e_level_6','d_level_6'\n",
        "           ]"
      ],
      "execution_count": null,
      "outputs": []
    },
    {
      "cell_type": "code",
      "metadata": {
        "id": "SZ-KnEV-CFm-"
      },
      "source": [
        "df.columns =columns\n"
      ],
      "execution_count": null,
      "outputs": []
    },
    {
      "cell_type": "code",
      "metadata": {
        "id": "LxLucDYobIfV"
      },
      "source": [
        "df['num'].value_counts()"
      ],
      "execution_count": null,
      "outputs": []
    },
    {
      "cell_type": "code",
      "metadata": {
        "id": "3m8DLGmWbIhw"
      },
      "source": [
        ""
      ],
      "execution_count": null,
      "outputs": []
    },
    {
      "cell_type": "code",
      "metadata": {
        "id": "ekZBvoaJbIlL"
      },
      "source": [
        ""
      ],
      "execution_count": null,
      "outputs": []
    },
    {
      "cell_type": "code",
      "metadata": {
        "id": "evqIN1rgbIne"
      },
      "source": [
        ""
      ],
      "execution_count": null,
      "outputs": []
    },
    {
      "cell_type": "code",
      "metadata": {
        "id": "R2qxJlKTbIqP"
      },
      "source": [
        ""
      ],
      "execution_count": null,
      "outputs": []
    },
    {
      "cell_type": "code",
      "metadata": {
        "id": "dJZCLIWhCHHP"
      },
      "source": [
        "df.drop(['year','month','day','hour'],axis =1 , inplace = True)\n",
        "df"
      ],
      "execution_count": null,
      "outputs": []
    },
    {
      "cell_type": "code",
      "metadata": {
        "id": "-hftV2ViCNuh"
      },
      "source": [
        "device = 'cuda' if torch.cuda.is_available() else 'cpu'\n",
        "\n",
        "torch.manual_seed(777)\n",
        "if device =='cuda':\n",
        "    torch.duca.manual_seed_all(777)"
      ],
      "execution_count": null,
      "outputs": []
    },
    {
      "cell_type": "code",
      "metadata": {
        "id": "Qe4EFWgOCNxs"
      },
      "source": [
        "import torch\n",
        "from torch.nn import Module, LSTM, Linear\n",
        "from torch.utils.data import DataLoader, TensorDataset\n",
        "import numpy as np\n",
        "from sklearn.preprocessing import MinMaxScaler\n",
        "from torch.autograd import Variable"
      ],
      "execution_count": null,
      "outputs": []
    },
    {
      "cell_type": "code",
      "metadata": {
        "id": "PSQZTfMgCI0R"
      },
      "source": [
        "train_data = df[:-160]\n",
        "train_data[train_data['num']==2]"
      ],
      "execution_count": null,
      "outputs": []
    },
    {
      "cell_type": "code",
      "metadata": {
        "id": "jBwNsLZbqXgd"
      },
      "source": [
        "scaler = MinMaxScaler()\n",
        "scaler.fit(train_data.iloc[:,1:])\n",
        "scaler"
      ],
      "execution_count": null,
      "outputs": []
    },
    {
      "cell_type": "code",
      "metadata": {
        "id": "8sYdmwKUqXjz"
      },
      "source": [
        "\n",
        "part = train_data[train_data['num']==1]\n",
        "part.drop(['num'], axis =1 , inplace =True)\n",
        "a = scaler.transform(part)\n",
        "a"
      ],
      "execution_count": null,
      "outputs": []
    },
    {
      "cell_type": "code",
      "metadata": {
        "id": "Lf4T6hdrpFLF"
      },
      "source": [
        "def sliding_windows(data, seq_length):\n",
        "    x = []\n",
        "    y = []\n",
        "    for j in range(1,26):\n",
        "      part = data[data['num']==j]\n",
        "      part.drop(['num'], axis =1 , inplace =True)\n",
        "      # part = scaler.transform(part)\n",
        "      for i in range(len(part)-seq_length):\n",
        "      \n",
        "        _x = part[i:(i+seq_length),1:]\n",
        "        _y = part[i+seq_length-1,0]\n",
        "        x.append(_x)\n",
        "        y.append(_y)\n",
        "    return np.array(x),np.array(y)"
      ],
      "execution_count": null,
      "outputs": []
    },
    {
      "cell_type": "code",
      "metadata": {
        "id": "i6YNhY2zoqj2"
      },
      "source": [
        "seq_length = 3\n",
        "x, y = sliding_windows(train_data, seq_length)\n",
        "\n",
        "\n"
      ],
      "execution_count": null,
      "outputs": []
    },
    {
      "cell_type": "code",
      "metadata": {
        "id": "VOrEJ_fboq38"
      },
      "source": [
        "x.shape"
      ],
      "execution_count": null,
      "outputs": []
    },
    {
      "cell_type": "code",
      "metadata": {
        "id": "ctClmFrnoq68"
      },
      "source": [
        "y.shape"
      ],
      "execution_count": null,
      "outputs": []
    },
    {
      "cell_type": "code",
      "metadata": {
        "id": "Sf2YoJ01oq9q"
      },
      "source": [
        "from sklearn.model_selection import train_test_split\n",
        "\n",
        "X_train, X_test, y_train, y_test = train_test_split(x, y, test_size=0.2, random_state=1422)\n",
        "print(X_train.shape, X_test.shape)"
      ],
      "execution_count": null,
      "outputs": []
    },
    {
      "cell_type": "code",
      "metadata": {
        "id": "QllMn4O1orAx"
      },
      "source": [
        "from torch.utils.data import TensorDataset, DataLoader\n",
        "X_train_t = torch.Tensor(X_train)\n",
        "X_test_t = torch.Tensor(X_test)\n",
        "y_train_t = torch.Tensor(y_train)\n",
        "y_test_t = torch.Tensor(y_test)"
      ],
      "execution_count": null,
      "outputs": []
    },
    {
      "cell_type": "code",
      "metadata": {
        "id": "lGT5bMeXorDT"
      },
      "source": [
        "batch_size = 1\n",
        "train_loader = DataLoader(TensorDataset(X_train_t, y_train_t), shuffle=True, batch_size=batch_size, num_workers = 3)\n",
        "test_loader = DataLoader(TensorDataset(X_test_t, y_test_t), shuffle=False, batch_size=batch_size,num_workers = 3)"
      ],
      "execution_count": null,
      "outputs": []
    },
    {
      "cell_type": "code",
      "metadata": {
        "id": "agVyf_iForGb"
      },
      "source": [
        "for seq, labels in train_loader:\n",
        "  print(seq.size())\n",
        "  print(len(seq))\n",
        "  y_pred = model(seq)\n",
        "  print(y_pred)\n",
        "  # print(loss_function(y_pred, labels).item())\n",
        "  # print(len(seq))\n",
        "  break"
      ],
      "execution_count": null,
      "outputs": []
    },
    {
      "cell_type": "code",
      "metadata": {
        "id": "pAF4yQn_orJj"
      },
      "source": [
        "\n",
        "class LSTM(nn.Module):\n",
        "    def __init__(self, input_size=42, hidden_layer_size=120, layer_dim =1, output_size=1):\n",
        "        super().__init__()\n",
        "        self.hidden_layer_size = hidden_layer_size\n",
        "        self.layer_dim = layer_dim\n",
        "\n",
        "        self.lstm = nn.LSTM(input_size, hidden_layer_size, layer_dim, batch_first = True)\n",
        "\n",
        "        self.linear = nn.Linear(hidden_layer_size, output_size)\n",
        "\n",
        "        self.hidden_cell = (torch.zeros(1,1,self.hidden_layer_size),\n",
        "                            torch.zeros(1,1,self.hidden_layer_size))\n",
        "        \n",
        "        torch.nn.init.xavier_uniform_(self.linear.weight)\n",
        "\n",
        "    def forward(self, input_seq):\n",
        "\n",
        "        h0 = torch.zeros(self.layer_dim, input_seq.size(0), self.hidden_layer_size).requires_grad_()\n",
        "        # Initialize cell state\n",
        "        c0 = torch.zeros(self.layer_dim, input_seq.size(0), self.hidden_layer_size).requires_grad_()\n",
        "\n",
        "        batch_size = input_seq.size(0)\n",
        "   \n",
        "        lstm_out, self.hidden_cell = self.lstm(input_seq, self.hidden_cell)\n",
        "        # print(lstm_out.view(len(input_seq),-1)[:,-1].shape)\n",
        "\n",
        "        out = self.linear(lstm_out)\n",
        "        out = out.view(batch_size,-1)\n",
        "        out = out[:,-1]\n",
        "\n",
        "        return out\n"
      ],
      "execution_count": null,
      "outputs": []
    },
    {
      "cell_type": "code",
      "metadata": {
        "id": "Qx7PzshzFfnO"
      },
      "source": [
        "model = LSTM().to(device)\n",
        "loss_function = nn.MSELoss()\n",
        "optimizer = torch.optim.Adam(model.parameters(), lr=0.01)\n"
      ],
      "execution_count": null,
      "outputs": []
    },
    {
      "cell_type": "code",
      "metadata": {
        "id": "AeP5e-plFfqV"
      },
      "source": [
        "model"
      ],
      "execution_count": null,
      "outputs": []
    },
    {
      "cell_type": "code",
      "metadata": {
        "id": "fPK-jtf4Em29"
      },
      "source": [
        "epoch_scheduler = torch.optim.lr_scheduler.StepLR(optimizer, 50, gamma=0.9, verbose = True)\n"
      ],
      "execution_count": null,
      "outputs": []
    },
    {
      "cell_type": "code",
      "metadata": {
        "id": "kJG-YLRqFfw4"
      },
      "source": [
        "epochs = 150\n",
        "patience = 30\n",
        "min_val_loss = 9999\n",
        "for i in range(epochs):\n",
        "    mse_train =0 \n",
        "    for seq, labels in train_loader:\n",
        "        seq = seq.to(device)\n",
        "        labels = labels.to(device)\n",
        "        optimizer.zero_grad()\n",
        "        model.hidden_cell = (torch.zeros(1, 1, model.hidden_layer_size),\n",
        "                        torch.zeros(1, 1, model.hidden_layer_size))\n",
        "\n",
        "        y_pred = model(seq)\n",
        "        loss = loss_function(y_pred, labels)\n",
        "        loss.backward()\n",
        "        mse_train+= loss.item()*seq.shape[0]\n",
        "        optimizer.step()\n",
        "    epoch_scheduler.step()\n",
        "    with torch.no_grad():\n",
        "        mse_val = 0\n",
        "        preds = []\n",
        "        gt = []\n",
        "        for seq, labels in test_loader:\n",
        "            seq = seq.to(device)\n",
        "            labels = labels.to(device)\n",
        "            y_pred = model(seq)\n",
        "            preds.append(y_pred.detach().numpy())\n",
        "            gt.append(labels.detach().numpy())\n",
        "            mse_val += loss_function(y_pred, labels).item()*seq.shape[0]\n",
        "    \n",
        "    preds = np.concatenate(preds)\n",
        "    gt = np.concatenate(gt)\n",
        "    print(\"iteration : {} , rsme : {}\".format(i, mse_val**0.5))\n",
        "    if min_val_loss > mse_val**0.5:\n",
        "        min_val_loss = mse_val**0.5\n",
        "        print(\"Saving...\")\n",
        "        torch.save(model.state_dict(), \"/content/drive/MyDrive/bigcontest/danm_lstm\")\n",
        "        counter = 0\n",
        "    else: \n",
        "        counter += 1\n",
        "    \n",
        "    if counter == patience:\n",
        "        break\n",
        "    \n",
        "    "
      ],
      "execution_count": null,
      "outputs": []
    },
    {
      "cell_type": "code",
      "metadata": {
        "id": "6fyo5B7ldqDr"
      },
      "source": [
        "# train\n",
        "epochs = 150\n",
        "patience = 30\n",
        "min_val_loss = 9999\n",
        "for i in range(epochs):\n",
        "    mse_train =0 \n",
        "    for seq, labels in train_loader:\n",
        "        seq = seq.to(device)\n",
        "        labels = labels.to(device)\n",
        "        optimizer.zero_grad()\n",
        "        model.hidden_cell = (torch.zeros(1, 1, model.hidden_layer_size),\n",
        "                        torch.zeros(1, 1, model.hidden_layer_size))\n",
        "\n",
        "        y_pred = model(seq)\n",
        "        loss = loss_function(y_pred, labels)\n",
        "        loss.backward()\n",
        "        mse_train+= loss.item()*seq.shape[0]\n",
        "        optimizer.step()\n",
        "    epoch_scheduler.step()\n",
        "    if i%25 == 1:\n",
        "        print(f'epoch: {i:3} loss: {loss.item():10.8f}')\n",
        "    if min_val_loss > mse_train**0.5:\n",
        "        min_val_loss = mse_train**0.5\n",
        "        print(\"Saving...\")\n",
        "        torch.save(model.state_dict(), \"/content/drive/MyDrive/bigcontest/danm_lstm\")\n",
        "        counter = 0\n",
        "    else: \n",
        "        counter += 1\n",
        "    \n",
        "    if counter == patience:\n",
        "      break"
      ],
      "execution_count": null,
      "outputs": []
    },
    {
      "cell_type": "code",
      "metadata": {
        "id": "RDaGrkKPdqGs"
      },
      "source": [
        "with torch.no_grad():\n",
        "    gt = []\n",
        "    preds = []\n",
        "    for seq, labels in test_loader:\n",
        "        seq = seq.to(device)\n",
        "        labels = labels.to(device)\n",
        "        y_pred = model(seq)\n",
        "        preds.append(y_pred)\n",
        "        gt.append(labels)\n",
        "\n",
        "\n",
        "print(len(gt), len(preds))"
      ],
      "execution_count": null,
      "outputs": []
    },
    {
      "cell_type": "code",
      "metadata": {
        "id": "_pinRseBXCz8"
      },
      "source": [
        "gt[0]"
      ],
      "execution_count": null,
      "outputs": []
    },
    {
      "cell_type": "code",
      "metadata": {
        "id": "gg-mQKNKdqJx"
      },
      "source": [
        "a = scaler.inverse_transform(np.array(a))\n",
        "a"
      ],
      "execution_count": null,
      "outputs": []
    },
    {
      "cell_type": "code",
      "metadata": {
        "id": "YNfGd9rzdqMd"
      },
      "source": [
        "a[:,0][3]"
      ],
      "execution_count": null,
      "outputs": []
    },
    {
      "cell_type": "code",
      "metadata": {
        "id": "9lf1PcEGFfz_"
      },
      "source": [
        "preds = []\n",
        "model.eval()\n",
        "for seq, labels in test_loader:\n",
        "        seq = seq.to(device)\n",
        "        labels = labels.to(device)\n",
        "\n",
        "        optimizer.zero_grad()\n",
        "        model.hidden_cell = (torch.zeros(1, seq_length, model.hidden_layer_size),\n",
        "                        torch.zeros(1, seq_length, model.hidden_layer_size))\n",
        "\n",
        "        y_pred = model(seq)\n",
        "        print(y_pred.\n",
        "        preds.append(y_pred)\n",
        "\n",
        "        "
      ],
      "execution_count": null,
      "outputs": []
    },
    {
      "cell_type": "code",
      "metadata": {
        "id": "0WlBlSUMIbRY"
      },
      "source": [
        "preds"
      ],
      "execution_count": null,
      "outputs": []
    },
    {
      "cell_type": "code",
      "metadata": {
        "id": "calEnKTLIbUi"
      },
      "source": [
        ""
      ],
      "execution_count": null,
      "outputs": []
    },
    {
      "cell_type": "code",
      "metadata": {
        "id": "YLfe64tGyIES"
      },
      "source": [
        "print(x.shape)\n",
        "print(y.shape)\n",
        "print(x[:6])\n",
        "print(y[0])"
      ],
      "execution_count": null,
      "outputs": []
    },
    {
      "cell_type": "code",
      "metadata": {
        "id": "3wGitx-sCN0Q"
      },
      "source": [
        "class LSTM(nn.Module):\n",
        "\n",
        "    def __init__(self):\n",
        "        super(LSTM, self).__init__()\n",
        "       \n",
        "        self.lstm = nn.LSTM(input_size=43, hidden_size=128,\n",
        "                            num_layers=2, batch_first=True)\n",
        "        \n",
        "        self.fc = nn.Linear(128, 1)\n",
        "        torch.nn.init.xavier_uniform_(self.fc.weight)\n",
        "\n",
        "    def forward(self, x):\n",
        "        # Propagate input through LSTM\n",
        "        x, _ = self.lstm(x)\n",
        "        x = self.fc(x)\n",
        "        return x "
      ],
      "execution_count": null,
      "outputs": []
    },
    {
      "cell_type": "code",
      "metadata": {
        "id": "QC-2nf6asdP9"
      },
      "source": [
        "num_epochs = 100\n",
        "learning_rate = 0.01\n",
        "\n",
        "input_size = 43\n",
        "hidden_size = 2\n",
        "num_layers = 2\n",
        "\n",
        "num_classes = 1\n",
        "\n",
        "net = LSTM().to(device)\n",
        "\n",
        "criterion = torch.nn.MSELoss()    # mean-squared error for regression\n",
        "optimizer = torch.optim.Adam(net.parameters(), lr=learning_rate)\n",
        "#optimizer = torch.optim.SGD(lstm.parameters(), lr=learning_rate)\n",
        "\n",
        "# Train the model\n",
        "for epoch in range(num_epochs):\n",
        "    var_x = Variable(trainX).to(device)\n",
        "    var_y = Variable(trainY).to(device)\n",
        "    \n",
        "    # obtain the loss function\n",
        "    optimizer.zero_grad()\n",
        "    out = net(var_x)\n",
        "    loss = criterion(out, var_y)\n",
        "    loss.backward()\n",
        "    \n",
        "    optimizer.step()\n",
        "    if epoch % 10 == 0:\n",
        "      print(\"Epoch: %d, loss: %1.5f\" % (epoch, loss.item()))\n",
        "\n",
        "plt.plot(testY)\n",
        "plt.plt(net(textX_tensor).to_numpy())\n",
        "plt.legend(['original','prediction'])\n",
        "plt.show"
      ],
      "execution_count": null,
      "outputs": []
    },
    {
      "cell_type": "code",
      "metadata": {
        "id": "BbgxxXsku3cd"
      },
      "source": [
        "net = net.eval() "
      ],
      "execution_count": null,
      "outputs": []
    },
    {
      "cell_type": "code",
      "metadata": {
        "id": "kbDW30E9ucK2"
      },
      "source": [
        "with torch.no_grad():\n",
        "  var_data = Variable(testX)\n",
        "  pred_test = net(var_data)"
      ],
      "execution_count": null,
      "outputs": []
    },
    {
      "cell_type": "code",
      "metadata": {
        "id": "LeffQ9vsy9SV"
      },
      "source": [
        ""
      ],
      "execution_count": null,
      "outputs": []
    },
    {
      "cell_type": "code",
      "metadata": {
        "id": "hZcDQQvdzafl"
      },
      "source": [
        "sc.inverse_transform(pred_test.squeeze())"
      ],
      "execution_count": null,
      "outputs": []
    },
    {
      "cell_type": "code",
      "metadata": {
        "id": "FTo-Ydbr5Ffz"
      },
      "source": [
        "pred_test.squeeze().shape"
      ],
      "execution_count": null,
      "outputs": []
    },
    {
      "cell_type": "code",
      "metadata": {
        "id": "dRxmC4Pv58wf"
      },
      "source": [
        ""
      ],
      "execution_count": null,
      "outputs": []
    }
  ]
}
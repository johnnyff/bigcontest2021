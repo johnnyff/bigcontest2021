{
  "nbformat": 4,
  "nbformat_minor": 0,
  "metadata": {
    "colab": {
      "name": "dam_cnnlstm",
      "private_outputs": true,
      "provenance": [],
      "collapsed_sections": [],
      "authorship_tag": "ABX9TyPZ0njwzE74SBo7ivrJZBna",
      "include_colab_link": true
    },
    "kernelspec": {
      "name": "python3",
      "display_name": "Python 3"
    },
    "language_info": {
      "name": "python"
    },
    "accelerator": "GPU"
  },
  "cells": [
    {
      "cell_type": "markdown",
      "metadata": {
        "id": "view-in-github",
        "colab_type": "text"
      },
      "source": [
        "<a href=\"https://colab.research.google.com/github/johnnyff/bigcontest2021/blob/logscale/dam_cnnlstm.ipynb\" target=\"_parent\"><img src=\"https://colab.research.google.com/assets/colab-badge.svg\" alt=\"Open In Colab\"/></a>"
      ]
    },
    {
      "cell_type": "code",
      "metadata": {
        "id": "gPfEKVVEwr8s"
      },
      "source": [
        "from google.colab import drive\n",
        "drive.mount('/content/drive')"
      ],
      "execution_count": null,
      "outputs": []
    },
    {
      "cell_type": "code",
      "metadata": {
        "id": "yVRdOIlBzT_w"
      },
      "source": [
        ""
      ],
      "execution_count": null,
      "outputs": []
    },
    {
      "cell_type": "code",
      "metadata": {
        "id": "6Qi_kBw4wwd3"
      },
      "source": [
        "import pandas as pd\n",
        "import seaborn as sns\n",
        "import numpy as np\n",
        "import matplotlib.pyplot as plt\n",
        "import warnings\n",
        "from tqdm import tqdm\n",
        "import torch\n",
        "import datetime as dt\n",
        "import torch.nn as nn\n",
        "\n",
        "warnings.filterwarnings(action='ignore') "
      ],
      "execution_count": null,
      "outputs": []
    },
    {
      "cell_type": "code",
      "metadata": {
        "id": "r5fG0rX9w6Pe"
      },
      "source": [
        "df = pd.read_excel('/content/drive/MyDrive/bigcontest/data/bigcontest_dataset.xlsx', header = 1)\n",
        "df"
      ],
      "execution_count": null,
      "outputs": []
    },
    {
      "cell_type": "code",
      "metadata": {
        "id": "qLWb5jEGw6kS"
      },
      "source": [
        "columns = ['num','year','month','day','hour','target',\n",
        "           'average_rain_1','a_rain_1','b_rain_1','c_rain_1','d_rain_1','e_level_1','d_level_1',\n",
        "           'average_rain_2','a_rain_2','b_rain_2','c_rain_2','d_rain_2','e_level_2','d_level_2',\n",
        "           'average_rain_3','a_rain_3','b_rain_3','c_rain_3','d_rain_3','e_level_3','d_level_3',\n",
        "           'average_rain_4','a_rain_4','b_rain_4','c_rain_4','d_rain_4','e_level_4','d_level_4',\n",
        "           'average_rain_5','a_rain_5','b_rain_5','c_rain_5','d_rain_5','e_level_5','d_level_5',\n",
        "           'average_rain_6','a_rain_6','b_rain_6','c_rain_6','d_rain_6','e_level_6','d_level_6'\n",
        "           ]"
      ],
      "execution_count": null,
      "outputs": []
    },
    {
      "cell_type": "code",
      "metadata": {
        "id": "vanVL_xAw6nN"
      },
      "source": [
        "df.columns =columns\n",
        "\n",
        "\n",
        "\n",
        "  \n"
      ],
      "execution_count": null,
      "outputs": []
    },
    {
      "cell_type": "code",
      "metadata": {
        "id": "FmJznnd6w6qT"
      },
      "source": [
        "df.columns"
      ],
      "execution_count": null,
      "outputs": []
    },
    {
      "cell_type": "code",
      "metadata": {
        "id": "DZGXxpe6xdRX"
      },
      "source": [
        "df.drop(['year','month','day','hour'],axis =1 , inplace = True)\n",
        "df"
      ],
      "execution_count": null,
      "outputs": []
    },
    {
      "cell_type": "code",
      "metadata": {
        "id": "7WrJqc-TyFF2"
      },
      "source": [
        "device = 'cuda' if torch.cuda.is_available() else 'cpu'\n",
        "\n",
        "torch.manual_seed(777)\n",
        "if device =='cuda':\n",
        "    torch.cuda.manual_seed_all(777)\n",
        "    print(torch.cuda.get_device_name(0))"
      ],
      "execution_count": null,
      "outputs": []
    },
    {
      "cell_type": "code",
      "metadata": {
        "id": "3INWuf4zyFL5"
      },
      "source": [
        "import torch\n",
        "from torch.nn import Module, LSTM, Linear\n",
        "from torch.utils.data import DataLoader, TensorDataset\n",
        "import numpy as np\n",
        "from sklearn.preprocessing import MinMaxScaler\n",
        "from torch.autograd import Variable"
      ],
      "execution_count": null,
      "outputs": []
    },
    {
      "cell_type": "code",
      "metadata": {
        "id": "PWlcUoCxyFO7"
      },
      "source": [
        "train_data = df[:-160]\n",
        "train_data[train_data['num']==1]"
      ],
      "execution_count": null,
      "outputs": []
    },
    {
      "cell_type": "code",
      "metadata": {
        "id": "cs03vw6m5stw"
      },
      "source": [
        "scaler = MinMaxScaler()\n",
        "scaler.fit(train_data.iloc[:,1:])\n",
        "scaler"
      ],
      "execution_count": null,
      "outputs": []
    },
    {
      "cell_type": "code",
      "metadata": {
        "id": "6q6fpeRm5swY"
      },
      "source": [
        "def sliding_windows(data, seq_length):\n",
        "    x = []\n",
        "    y = []\n",
        "    for j in range(1,26):\n",
        "      part = data[data['num']==j]\n",
        "      part.drop(['num'], axis =1 , inplace =True)\n",
        "      part = scaler.transform(part)\n",
        "      temp =[]\n",
        "      for i in range(seq_length):\n",
        "        temp.append(part[0,1:])\n",
        "\n",
        "      for i in range(seq_length -1):\n",
        "        x.append(temp)\n",
        "        y.append(part[0,0])\n",
        "\n",
        "      for i in range(len(part)-seq_length):\n",
        "      \n",
        "        _x = part[i:(i+seq_length),1:]\n",
        "        _y = part[i+seq_length-1,0]\n",
        "        x.append(_x)\n",
        "        y.append(_y)\n",
        "    return np.array(x),np.array(y)"
      ],
      "execution_count": null,
      "outputs": []
    },
    {
      "cell_type": "code",
      "metadata": {
        "id": "OO-185-x5s0A"
      },
      "source": [
        "seq_length = 3\n",
        "x, y = sliding_windows(train_data, seq_length)\n",
        "\n",
        "\n"
      ],
      "execution_count": null,
      "outputs": []
    },
    {
      "cell_type": "code",
      "metadata": {
        "id": "ua13ud6k5s3F"
      },
      "source": [
        "x.shape"
      ],
      "execution_count": null,
      "outputs": []
    },
    {
      "cell_type": "code",
      "metadata": {
        "id": "m2CVtSWP5s6n"
      },
      "source": [
        "y.shape"
      ],
      "execution_count": null,
      "outputs": []
    },
    {
      "cell_type": "code",
      "metadata": {
        "id": "pL_V6rSu11TF"
      },
      "source": [
        "from sklearn.model_selection import train_test_split\n",
        "\n",
        "X_train, X_test, y_train, y_test = train_test_split(x, y, test_size=0.2, random_state=1422)\n",
        "print(X_train.shape, X_test.shape)"
      ],
      "execution_count": null,
      "outputs": []
    },
    {
      "cell_type": "code",
      "metadata": {
        "id": "nLgoyq-z1uH3"
      },
      "source": [
        "from torch.utils.data import TensorDataset, DataLoader\n",
        "X_train_t = torch.Tensor(X_train)\n",
        "X_test_t = torch.Tensor(X_test)\n",
        "y_train_t = torch.Tensor(y_train)\n",
        "y_test_t = torch.Tensor(y_test)"
      ],
      "execution_count": null,
      "outputs": []
    },
    {
      "cell_type": "code",
      "metadata": {
        "id": "hFPUes0EyNwH"
      },
      "source": [
        "train_batch_size = 5\n",
        "test_batch_size =1 \n",
        "train_loader = DataLoader(TensorDataset(X_train_t, y_train_t), shuffle=True, batch_size=train_batch_size, num_workers = 3)\n",
        "test_loader = DataLoader(TensorDataset(X_test_t, y_test_t), shuffle=False, batch_size=test_batch_size,num_workers = 3)"
      ],
      "execution_count": null,
      "outputs": []
    },
    {
      "cell_type": "code",
      "metadata": {
        "id": "3UhKGBN7xwEo"
      },
      "source": [
        "class convLSTM(nn.Module):\n",
        "    def __init__(self, n_features, n_hidden, n_layers):\n",
        "        super(convLSTM, self).__init__()\n",
        "        self.n_hidden = n_hidden\n",
        "        self.n_layers = n_layers\n",
        "        self.c1 = nn.Conv1d(in_channels=3, out_channels=3, kernel_size = 3, padding =1 ,stride = 2) # 1D CNN 레이어 추가\n",
        "        self.lstm = nn.LSTM(\n",
        "            input_size=n_features//2,\n",
        "            hidden_size=n_hidden,\n",
        "            num_layers=n_layers,\n",
        "            bidirectional = True\n",
        "        )\n",
        "\n",
        "\n",
        "        self.linear1 = nn.Linear(n_hidden*2, n_hidden)\n",
        "        self.linear2 = nn.Linear(n_hidden,1)\n",
        "        torch.nn.init.xavier_uniform_(self.linear1.weight)\n",
        "        torch.nn.init.xavier_uniform_(self.linear2.weight)\n",
        "\n",
        "    def reset_hidden_state(self):\n",
        "        self.hidden = (\n",
        "            torch.zeros(2*self.n_layers, self.seq_len, self.n_hidden),\n",
        "            torch.zeros(2*self.n_layers, self.seq_len, self.n_hidden)\n",
        "        )\n",
        "    def forward(self, sequences):\n",
        "        sequences = self.c1(sequences)\n",
        "        lstm_out, self.hidden_cell = self.lstm(sequences)\n",
        "        y_pred = self.linear1(lstm_out)\n",
        "        y_pred = self.linear2(y_pred)\n",
        "        y_pred = y_pred.view(len(sequences),-1)\n",
        "        return y_pred[:,-1]"
      ],
      "execution_count": null,
      "outputs": []
    },
    {
      "cell_type": "code",
      "metadata": {
        "id": "nobOQjiqFOhh"
      },
      "source": [
        "model = convLSTM(n_features =42, n_hidden= 120, n_layers = 1).to(device)\n",
        "loss_function = nn.MSELoss().to(device)\n",
        "optimizer = torch.optim.Adam(model.parameters(), lr=0.001)\n",
        "model"
      ],
      "execution_count": null,
      "outputs": []
    },
    {
      "cell_type": "code",
      "metadata": {
        "id": "6n_qutNEHpVL"
      },
      "source": [
        "for seq, labels in test_loader:\n",
        "  seq = seq.to(device)\n",
        "  print(model(seq))\n",
        "  break"
      ],
      "execution_count": null,
      "outputs": []
    },
    {
      "cell_type": "code",
      "metadata": {
        "id": "ItnPY3I5HpY3"
      },
      "source": [
        ""
      ],
      "execution_count": null,
      "outputs": []
    },
    {
      "cell_type": "code",
      "metadata": {
        "id": "qJuxa2W2Hpcr"
      },
      "source": [
        ""
      ],
      "execution_count": null,
      "outputs": []
    },
    {
      "cell_type": "code",
      "metadata": {
        "id": "cdTLxEDjFOko"
      },
      "source": [
        "epoch_scheduler = torch.optim.lr_scheduler.StepLR(optimizer, step_size = 250, gamma=0.8, verbose = True)\n"
      ],
      "execution_count": null,
      "outputs": []
    },
    {
      "cell_type": "code",
      "metadata": {
        "id": "xSN-MyXZFOsR"
      },
      "source": [
        "epochs = 2000\n",
        "patience = 100\n",
        "min_val_loss = 9999\n",
        "counter = 0\n",
        "batch_loss = []\n",
        "val_loss = []\n",
        "preds =[]\n",
        "gts = []\n",
        "for i in range(epochs):\n",
        "    mse_train =0 \n",
        "    for seq, labels in train_loader:\n",
        "        seq = seq.to(device)\n",
        "        labels = labels.to(device)\n",
        "        optimizer.zero_grad()\n",
        "        model.hidden_cell = (torch.zeros(2, seq.size(0), model.n_hidden),\n",
        "                        torch.zeros(2, seq.size(0), model.n_hidden))\n",
        "\n",
        "        y_pred = model(seq)\n",
        "        loss = loss_function(y_pred, labels)\n",
        "        loss.backward()\n",
        "        mse_train+= loss.item()\n",
        "        optimizer.step()\n",
        "    batch_loss.append(mse_train)\n",
        "    epoch_scheduler.step()\n",
        "\n",
        "   \n",
        "    if (i%5==0):\n",
        "      with torch.no_grad():\n",
        "          mse_val = 0\n",
        "          total = 1\n",
        "          for seq, labels in test_loader:\n",
        "              total = len(test_loader)\n",
        "              seq = seq.to(device)\n",
        "              labels = labels.to(device).view([-1,seq.size(0)])\n",
        "              y_pred = model(seq).view([-1,seq.size(0)])\n",
        "\n",
        "              labels = torch.tensor(labels)\n",
        "              y_pred = torch.tensor(y_pred)\n",
        "              \n",
        "              temp = (seq[:,len(seq)-1,:])\n",
        "              gt = scaler.inverse_transform(torch.cat([labels,temp], dim =1).detach().cpu().clone().numpy())[0][0]\n",
        "              pred = scaler.inverse_transform(torch.cat([y_pred,temp], dim =1).detach().cpu().clone().numpy())[0][0]\n",
        "              loss = loss_function(torch.tensor(pred), torch.tensor(gt)).item()\n",
        "              gts.append(gt)\n",
        "              preds.append(pred)              \n",
        "              mse_val += loss\n",
        "\n",
        "          val_loss.append((mse_val/total)**0.5)\n",
        "\n",
        "      print(\"iteration : {} , rsme : {}\".format(i, (mse_val/total)**0.5))\n",
        "      if min_val_loss > mse_val**0.5:\n",
        "          min_val_loss = mse_val**0.5\n",
        "          print(\"Saving...\")\n",
        "          torch.save(model.state_dict(), \"/content/drive/MyDrive/bigcontest/danm_convlstm_model_2days.pt\")\n",
        "          counter = 0\n",
        "      else: \n",
        "          counter += 1\n",
        "      \n",
        "      if counter == patience:\n",
        "          break\n",
        "    \n",
        "    "
      ],
      "execution_count": null,
      "outputs": []
    },
    {
      "cell_type": "code",
      "metadata": {
        "id": "-dTP5XIaFOu9"
      },
      "source": [
        "print(min(val_loss))\n",
        "plt.plot(val_loss)"
      ],
      "execution_count": null,
      "outputs": []
    },
    {
      "cell_type": "code",
      "metadata": {
        "id": "kzjrDlEi37aP"
      },
      "source": [
        ""
      ],
      "execution_count": null,
      "outputs": []
    },
    {
      "cell_type": "code",
      "metadata": {
        "id": "r3p9UK9h5O3M"
      },
      "source": [
        "model.eval()\n",
        "with torch.no_grad():\n",
        "    gt = []\n",
        "    preds = []\n",
        "    mse_val = 0\n",
        "    total = 0\n",
        "    for seq, labels in test_loader:\n",
        "        total = len(test_loader)\n",
        "        seq = seq.to(device)\n",
        "        labels = labels.to(device).view([-1,seq.size(0)])\n",
        "        y_pred = model(seq).view([-1,seq.size(0)])\n",
        "\n",
        "        labels = torch.tensor(labels)\n",
        "        y_pred = torch.tensor(y_pred)\n",
        "\n",
        "        temp = (seq[:,len(seq)-1,:])\n",
        "        gt = scaler.inverse_transform(torch.cat([labels,temp], dim =1).detach().cpu().clone().numpy())[0][0]\n",
        "        pred = scaler.inverse_transform(torch.cat([y_pred,temp], dim =1).detach().cpu().clone().numpy())[0][0]\n",
        "        loss = loss_function(torch.tensor(pred), torch.tensor(gt)).item()\n",
        "        gts.append(gt)\n",
        "        preds.append(pred)              \n",
        "        mse_val += loss\n",
        "    "
      ],
      "execution_count": null,
      "outputs": []
    },
    {
      "cell_type": "markdown",
      "metadata": {
        "id": "pD7tMKXsmLiK"
      },
      "source": [
        "### Checking with entire dataset"
      ]
    },
    {
      "cell_type": "code",
      "metadata": {
        "id": "HSEfqB8C8a40"
      },
      "source": [
        "model.eval()\n",
        "with torch.no_grad():  \n",
        "    final_gt = []\n",
        "    final_pred = []\n",
        "    final_loss = 0 \n",
        "    for i in range(len(x)):\n",
        "        seq = torch.FloatTensor(x[i].reshape(1,3,-1)).to(device)\n",
        "        pr = model(seq).reshape(1,-1).to(device)\n",
        "        label = torch.tensor(y[i]).reshape(1,-1).to(device)\n",
        "        temp = (seq[:,len(seq)-1,:])\n",
        "\n",
        "        gt = scaler.inverse_transform(torch.cat([label,temp], dim =1).detach().cpu().clone().numpy())[0][0]\n",
        "        pred = scaler.inverse_transform(torch.cat([pr,temp], dim =1).detach().cpu().clone().numpy())[0][0]\n",
        "        loss = loss_function(torch.tensor(pred), torch.tensor(gt)).item()\n",
        "        final_gt.append(gt)\n",
        "        final_pred.append(pred)\n",
        "        final_loss+=loss"
      ],
      "execution_count": null,
      "outputs": []
    },
    {
      "cell_type": "code",
      "metadata": {
        "id": "a2CCEbh38vjX"
      },
      "source": [
        "\n",
        "rmse = (final_loss/len(final_gt))**0.5\n",
        "rmse"
      ],
      "execution_count": null,
      "outputs": []
    },
    {
      "cell_type": "code",
      "metadata": {
        "id": "8dGFFwSrl4dU"
      },
      "source": [
        "feed = pd.DataFrame({'predict': final_pred, 'GT ' : final_gt})\n",
        "feed"
      ],
      "execution_count": null,
      "outputs": []
    },
    {
      "cell_type": "code",
      "metadata": {
        "id": "pxmqATnIl6OO"
      },
      "source": [
        "plt.plot(final_gt, label ='gt')\n",
        "plt.plot(final_pred,label = 'pred')\n",
        "plt.legend()\n",
        "plt.show()"
      ],
      "execution_count": null,
      "outputs": []
    },
    {
      "cell_type": "code",
      "metadata": {
        "id": "5pANIrremCVh"
      },
      "source": [
        ""
      ],
      "execution_count": null,
      "outputs": []
    }
  ]
}